{
  "nbformat": 4,
  "nbformat_minor": 0,
  "metadata": {
    "colab": {
      "name": "Copy of SVM_classification.ipynb",
      "provenance": []
    },
    "kernelspec": {
      "name": "python3",
      "display_name": "Python 3"
    },
    "language_info": {
      "name": "python"
    }
  },
  "cells": [
    {
      "cell_type": "markdown",
      "metadata": {
        "id": "LZdxJYtA9Rx-"
      },
      "source": [
        "## $\\color{Red}{SVM}$  $\\color{Red}{Classification}$ $\\color{Red}{Problem}$"
      ]
    },
    {
      "cell_type": "markdown",
      "metadata": {
        "id": "dPSBsUGMfsKy"
      },
      "source": [
        "**Importing relevant libraries**\n",
        "\n",
        "**NumPy** for generating linearly separable 40 datapoints\n",
        "\n",
        "**Matplotlib** for plotting the data\n",
        "\n",
        "**SVM model** from **scikit-learn** library"
      ]
    },
    {
      "cell_type": "code",
      "metadata": {
        "id": "4XXyYxOVfEWc"
      },
      "source": [
        "import numpy as np\n",
        "import matplotlib.pyplot as plt\n",
        "from sklearn import svm"
      ],
      "execution_count": null,
      "outputs": []
    },
    {
      "cell_type": "markdown",
      "metadata": {
        "id": "Of-dCBM2goB8"
      },
      "source": [
        "**Generating 40 linearly separable points**"
      ]
    },
    {
      "cell_type": "code",
      "metadata": {
        "colab": {
          "base_uri": "https://localhost:8080/",
          "height": 282
        },
        "id": "fDk9Exz2frDL",
        "outputId": "d0c2735f-f61c-4de0-b545-0150e271a673"
      },
      "source": [
        "np.random.seed(1)\n",
        "X = np.r_[np.random.randn(20, 2) - [2, 2], np.random.randn(20, 2) + [2, 2]]\n",
        "#print(X)\n",
        "Y = [-1] * 20 + [1] * 20\n",
        "#print(Y)\n",
        "plt.scatter(X[:,0],X[:,1],c=Y)"
      ],
      "execution_count": null,
      "outputs": [
        {
          "output_type": "execute_result",
          "data": {
            "text/plain": [
              "<matplotlib.collections.PathCollection at 0x7f8e193ab990>"
            ]
          },
          "metadata": {
            "tags": []
          },
          "execution_count": 168
        },
        {
          "output_type": "display_data",
          "data": {
            "image/png": "[encoded data removed]",
            "text/plain": [
              "<Figure size 432x288 with 1 Axes>"
            ]
          },
          "metadata": {
            "tags": [],
            "needs_background": "light"
          }
        }
      ]
    },
    {
      "cell_type": "markdown",
      "metadata": {
        "id": "j0qvsjcHzbQ3"
      },
      "source": [
        "**Fitting to the model**"
      ]
    },
    {
      "cell_type": "markdown",
      "metadata": {
        "id": "sPg7wsyN0E48"
      },
      "source": [
        "\n",
        "**Higher C value** $\\rightarrow$ **all correct but low margin**\n",
        "\n",
        "**Lower value of C** $\\rightarrow$ **allowing little deviation but high margin**"
      ]
    },
    {
      "cell_type": "code",
      "metadata": {
        "id": "Dogtx0282BEh"
      },
      "source": [
        "penalty =  2e0 # 2e-4, 2e-3 2e-2, 2e-1, 2e0, 2e+1, 2e2, 2e3, 2e4 (C values)"
      ],
      "execution_count": null,
      "outputs": []
    },
    {
      "cell_type": "markdown",
      "metadata": {
        "id": "YDWjffMA1p_B"
      },
      "source": [
        "Calling **SVM classifer** and **kernal is linear**\n"
      ]
    },
    {
      "cell_type": "code",
      "metadata": {
        "colab": {
          "base_uri": "https://localhost:8080/"
        },
        "id": "2Y-xh2e51lEz",
        "outputId": "8b842560-2ef0-4570-e86b-c04f9e44d9a7"
      },
      "source": [
        "clf = svm.SVC(kernel = 'linear', C = penalty)\n",
        "clf.fit(X,Y)"
      ],
      "execution_count": null,
      "outputs": [
        {
          "output_type": "execute_result",
          "data": {
            "text/plain": [
              "SVC(C=2.0, break_ties=False, cache_size=200, class_weight=None, coef0=0.0,\n",
              "    decision_function_shape='ovr', degree=3, gamma='scale', kernel='linear',\n",
              "    max_iter=-1, probability=False, random_state=None, shrinking=True,\n",
              "    tol=0.001, verbose=False)"
            ]
          },
          "metadata": {
            "tags": []
          },
          "execution_count": 181
        }
      ]
    },
    {
      "cell_type": "markdown",
      "metadata": {
        "id": "1vDmBGRU2TDF"
      },
      "source": [
        "**Get the separating hyperplane**\n",
        "\n",
        "$ax$ + $by$ + $c$ = 0\n",
        "\n",
        "$y$ = - $\\frac{a}{b}x$  - $\\frac{c}{b}$"
      ]
    },
    {
      "cell_type": "code",
      "metadata": {
        "id": "NhNDWo942Sd7"
      },
      "source": [
        "w = clf.coef_[0]\n",
        "#w\n",
        "a = -w[0] / w[1]\n",
        "#a\n",
        "xx = np.linspace(-5,5)\n",
        "yy = a * xx - (clf.intercept_[0]) / w[1]\n",
        "#plt.scatter(X[:,0],X[:,1])\n",
        "#plt. plot(xx,yy)\n",
        "#print(w[0]**2 + w[1]**2)\n",
        "#print(np.sum(clf.coef_ **2))\n",
        "#clf.coef_\n",
        "#clf.intercept_"
      ],
      "execution_count": null,
      "outputs": []
    },
    {
      "cell_type": "markdown",
      "metadata": {
        "id": "spEaYZXa3g3V"
      },
      "source": [
        "Creating the Margin\n",
        "\n",
        "$ax$  +  $by$  +  $c$  = $\\pm$ 1\n",
        "\n",
        "$y$ = - $\\frac{a}{b}x$ + - $\\frac{c \\pm 1}{b}$"
      ]
    },
    {
      "cell_type": "code",
      "metadata": {
        "id": "4viGXiDN1ghZ"
      },
      "source": [
        "#margin = 1 / np.sqrt(np.sum(clf.coef_ ** 2))\n",
        "yy_down = a * xx - (clf.intercept_[0] - 1) / w[1]\n",
        "yy_up = a * xx - (clf.intercept_[0] + 1) / w[1]"
      ],
      "execution_count": null,
      "outputs": []
    },
    {
      "cell_type": "code",
      "metadata": {
        "colab": {
          "base_uri": "https://localhost:8080/",
          "height": 265
        },
        "id": "Fhob-2cu3sNw",
        "outputId": "a8bea004-fa70-45a5-be8d-f5b6b31fa75a"
      },
      "source": [
        "plt.scatter(X[:,0],X[:,1],c=Y)\n",
        "plt.plot(xx, yy, 'k-')\n",
        "plt.plot(xx, yy_down, 'r--')\n",
        "plt.plot(xx, yy_up, 'r--')\n",
        "plt.show()"
      ],
      "execution_count": null,
      "outputs": [
        {
          "output_type": "display_data",
          "data": {
            "image/png": "[encoded data removed]",
            "text/plain": [
              "<Figure size 432x288 with 1 Axes>"
            ]
          },
          "metadata": {
            "tags": [],
            "needs_background": "light"
          }
        }
      ]
    },
    {
      "cell_type": "code",
      "metadata": {
        "id": "5QfkQnfl7fFq"
      },
      "source": [
        ""
      ],
      "execution_count": null,
      "outputs": []
    }
  ]
}